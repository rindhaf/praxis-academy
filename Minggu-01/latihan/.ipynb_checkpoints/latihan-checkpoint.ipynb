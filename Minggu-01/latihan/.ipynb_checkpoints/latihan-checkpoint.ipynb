{
 "cells": [
  {
   "cell_type": "code",
   "execution_count": 1,
   "metadata": {},
   "outputs": [
    {
     "name": "stdout",
     "output_type": "stream",
     "text": [
      "Be careful not to fall off!\n"
     ]
    }
   ],
   "source": [
    "the_world_is_flat = True\n",
    "if the_world_is_flat:\n",
    "\tprint(\"Be careful not to fall off!\")"
   ]
  },
  {
   "cell_type": "code",
   "execution_count": 2,
   "metadata": {},
   "outputs": [
    {
     "name": "stdout",
     "output_type": "stream",
     "text": [
      "80\n"
     ]
    }
   ],
   "source": [
    "width = 10\n",
    "height = 4 * 2\n",
    "print (width * height)"
   ]
  },
  {
   "cell_type": "code",
   "execution_count": 3,
   "metadata": {},
   "outputs": [
    {
     "name": "stdout",
     "output_type": "stream",
     "text": [
      "d\n",
      "rindhaf\n"
     ]
    }
   ],
   "source": [
    "word = 'rindhaf'\n",
    "print (word[3])\n",
    "print (word[:1] + word[1:])"
   ]
  },
  {
   "cell_type": "code",
   "execution_count": 4,
   "metadata": {},
   "outputs": [
    {
     "name": "stdout",
     "output_type": "stream",
     "text": [
      "[1, 2, 5, 6, 8]\n",
      "5\n",
      "[8]\n",
      "[1, 2, 5, 6, 8]\n"
     ]
    }
   ],
   "source": [
    "rindha = [1, 2, 5, 6, 8]\n",
    "print (rindha)\n",
    "print (rindha[-3])\n",
    "print (rindha[4:])\n",
    "rindha + [10, 18, 19, 20, 21]\n",
    "print (rindha)"
   ]
  },
  {
   "cell_type": "code",
   "execution_count": 6,
   "metadata": {},
   "outputs": [
    {
     "name": "stdout",
     "output_type": "stream",
     "text": [
      "2\n",
      "1\n",
      "3\n",
      "4\n",
      "7\n"
     ]
    }
   ],
   "source": [
    "r, n = 2, 1\n",
    "while r < 10:\n",
    "    print(r)\n",
    "    r, n = n, r+n"
   ]
  },
  {
   "cell_type": "code",
   "execution_count": 7,
   "metadata": {},
   "outputs": [
    {
     "ename": "SyntaxError",
     "evalue": "invalid syntax (<ipython-input-7-725ba8df15a4>, line 3)",
     "output_type": "error",
     "traceback": [
      "\u001b[0;36m  File \u001b[0;32m\"<ipython-input-7-725ba8df15a4>\"\u001b[0;36m, line \u001b[0;32m3\u001b[0m\n\u001b[0;31m    print(n, end= ',')\u001b[0m\n\u001b[0m                ^\u001b[0m\n\u001b[0;31mSyntaxError\u001b[0m\u001b[0;31m:\u001b[0m invalid syntax\n"
     ]
    }
   ],
   "source": [
    "n, d = 1, 2\n",
    "while n < 200:\n",
    "    print(n, end= ',')\n",
    "    n, d = n, n+d"
   ]
  },
  {
   "cell_type": "code",
   "execution_count": 8,
   "metadata": {},
   "outputs": [
    {
     "ename": "SyntaxError",
     "evalue": "invalid syntax (<ipython-input-8-73a6cd11a000>, line 3)",
     "output_type": "error",
     "traceback": [
      "\u001b[0;36m  File \u001b[0;32m\"<ipython-input-8-73a6cd11a000>\"\u001b[0;36m, line \u001b[0;32m3\u001b[0m\n\u001b[0;31m    print(n, end=',')\u001b[0m\n\u001b[0m                ^\u001b[0m\n\u001b[0;31mSyntaxError\u001b[0m\u001b[0;31m:\u001b[0m invalid syntax\n"
     ]
    }
   ],
   "source": [
    "n, d = 1, 2\n",
    "while n < 200:\n",
    "    print(n, end=',')\n",
    "    n, d = n, n+d"
   ]
  },
  {
   "cell_type": "code",
   "execution_count": 9,
   "metadata": {},
   "outputs": [
    {
     "ename": "SyntaxError",
     "evalue": "invalid syntax (<ipython-input-9-33140a5b04b9>, line 3)",
     "output_type": "error",
     "traceback": [
      "\u001b[0;36m  File \u001b[0;32m\"<ipython-input-9-33140a5b04b9>\"\u001b[0;36m, line \u001b[0;32m3\u001b[0m\n\u001b[0;31m    print(n, end= \",\")\u001b[0m\n\u001b[0m                ^\u001b[0m\n\u001b[0;31mSyntaxError\u001b[0m\u001b[0;31m:\u001b[0m invalid syntax\n"
     ]
    }
   ],
   "source": [
    "n, d = 1, 2\n",
    "while n < 200:\n",
    "    print(n, end= \",\")\n",
    "    n, d = n, n+d"
   ]
  },
  {
   "cell_type": "code",
   "execution_count": 10,
   "metadata": {},
   "outputs": [
    {
     "ename": "NameError",
     "evalue": "name 'x' is not defined",
     "output_type": "error",
     "traceback": [
      "\u001b[0;31m---------------------------------------------------------------------------\u001b[0m",
      "\u001b[0;31mNameError\u001b[0m                                 Traceback (most recent call last)",
      "\u001b[0;32m<ipython-input-10-46754a9f94fd>\u001b[0m in \u001b[0;36m<module>\u001b[0;34m()\u001b[0m\n\u001b[1;32m      5\u001b[0m \u001b[0;32melif\u001b[0m \u001b[0mr\u001b[0m \u001b[0;34m==\u001b[0m \u001b[0;36m0\u001b[0m\u001b[0;34m:\u001b[0m\u001b[0;34m\u001b[0m\u001b[0m\n\u001b[1;32m      6\u001b[0m     \u001b[0;32mprint\u001b[0m\u001b[0;34m(\u001b[0m\u001b[0;34m'Zero'\u001b[0m\u001b[0;34m)\u001b[0m\u001b[0;34m\u001b[0m\u001b[0m\n\u001b[0;32m----> 7\u001b[0;31m \u001b[0;32melif\u001b[0m \u001b[0mx\u001b[0m \u001b[0;34m==\u001b[0m \u001b[0;36m1\u001b[0m\u001b[0;34m:\u001b[0m\u001b[0;34m\u001b[0m\u001b[0m\n\u001b[0m\u001b[1;32m      8\u001b[0m     \u001b[0;32mprint\u001b[0m\u001b[0;34m(\u001b[0m\u001b[0;34m'Single'\u001b[0m\u001b[0;34m)\u001b[0m\u001b[0;34m\u001b[0m\u001b[0m\n\u001b[1;32m      9\u001b[0m \u001b[0;32melse\u001b[0m\u001b[0;34m:\u001b[0m\u001b[0;34m\u001b[0m\u001b[0m\n",
      "\u001b[0;31mNameError\u001b[0m: name 'x' is not defined"
     ]
    }
   ],
   "source": [
    "r = 8\n",
    "if r < 0:\n",
    "    r = 0\n",
    "    print('Negative changed to zero')\n",
    "elif r == 0:\n",
    "    print('Zero')\n",
    "elif x == 1:\n",
    "    print('Single')\n",
    "else:\n",
    "    print('More')"
   ]
  },
  {
   "cell_type": "code",
   "execution_count": 11,
   "metadata": {},
   "outputs": [
    {
     "name": "stdout",
     "output_type": "stream",
     "text": [
      "More\n"
     ]
    }
   ],
   "source": [
    "r = 8\n",
    "if r < 0:\n",
    "    r = 0\n",
    "    print('Negative changed to zero')\n",
    "elif r == 0:\n",
    "    print('Zero')\n",
    "elif r == 1:\n",
    "    print('Single')\n",
    "else:\n",
    "    print('More')"
   ]
  },
  {
   "cell_type": "code",
   "execution_count": 12,
   "metadata": {},
   "outputs": [
    {
     "name": "stdout",
     "output_type": "stream",
     "text": [
      "('Merapi', 6)\n",
      "('Sindoro', 7)\n",
      "('Sumbing', 7)\n"
     ]
    }
   ],
   "source": [
    "kata = ['Merapi', 'Sindoro', 'Sumbing']\n",
    "for i in kata:\n",
    "    print(i, len(i))"
   ]
  },
  {
   "cell_type": "code",
   "execution_count": 13,
   "metadata": {},
   "outputs": [
    {
     "name": "stdout",
     "output_type": "stream",
     "text": [
      "('Found an even number', 8)\n",
      "('Found a number', 9)\n",
      "('Found a number', 10)\n",
      "('Found a number', 11)\n",
      "('Found a number', 12)\n",
      "('Found a number', 13)\n",
      "('Found a number', 14)\n",
      "('Found a number', 15)\n",
      "('Found an even number', 16)\n",
      "('Found a number', 17)\n",
      "('Found a number', 18)\n",
      "('Found a number', 19)\n",
      "('Found a number', 20)\n",
      "('Found a number', 21)\n",
      "('Found a number', 22)\n",
      "('Found a number', 23)\n",
      "('Found an even number', 24)\n",
      "('Found a number', 25)\n",
      "('Found a number', 26)\n",
      "('Found a number', 27)\n",
      "('Found a number', 28)\n",
      "('Found a number', 29)\n",
      "('Found a number', 30)\n",
      "('Found a number', 31)\n",
      "('Found an even number', 32)\n",
      "('Found a number', 33)\n",
      "('Found a number', 34)\n",
      "('Found a number', 35)\n",
      "('Found a number', 36)\n",
      "('Found a number', 37)\n",
      "('Found a number', 38)\n",
      "('Found a number', 39)\n",
      "('Found an even number', 40)\n",
      "('Found a number', 41)\n",
      "('Found a number', 42)\n",
      "('Found a number', 43)\n",
      "('Found a number', 44)\n",
      "('Found a number', 45)\n",
      "('Found a number', 46)\n",
      "('Found a number', 47)\n",
      "('Found an even number', 48)\n",
      "('Found a number', 49)\n",
      "('Found a number', 50)\n",
      "('Found a number', 51)\n",
      "('Found a number', 52)\n",
      "('Found a number', 53)\n",
      "('Found a number', 54)\n",
      "('Found a number', 55)\n",
      "('Found an even number', 56)\n",
      "('Found a number', 57)\n",
      "('Found a number', 58)\n",
      "('Found a number', 59)\n",
      "('Found a number', 60)\n",
      "('Found a number', 61)\n",
      "('Found a number', 62)\n",
      "('Found a number', 63)\n",
      "('Found an even number', 64)\n",
      "('Found a number', 65)\n",
      "('Found a number', 66)\n",
      "('Found a number', 67)\n",
      "('Found a number', 68)\n",
      "('Found a number', 69)\n",
      "('Found a number', 70)\n",
      "('Found a number', 71)\n",
      "('Found an even number', 72)\n",
      "('Found a number', 73)\n",
      "('Found a number', 74)\n",
      "('Found a number', 75)\n",
      "('Found a number', 76)\n",
      "('Found a number', 77)\n",
      "('Found a number', 78)\n",
      "('Found a number', 79)\n",
      "('Found an even number', 80)\n",
      "('Found a number', 81)\n",
      "('Found a number', 82)\n",
      "('Found a number', 83)\n",
      "('Found a number', 84)\n",
      "('Found a number', 85)\n",
      "('Found a number', 86)\n",
      "('Found a number', 87)\n"
     ]
    }
   ],
   "source": [
    "for num in range(8, 88):\n",
    "     if num % 8 == 0:\n",
    "         print (\"Found an even number\", num)\n",
    "         continue\n",
    "     print(\"Found a number\", num)"
   ]
  },
  {
   "cell_type": "code",
   "execution_count": null,
   "metadata": {},
   "outputs": [],
   "source": []
  }
 ],
 "metadata": {
  "kernelspec": {
   "display_name": "Python 2",
   "language": "python",
   "name": "python2"
  },
  "language_info": {
   "codemirror_mode": {
    "name": "ipython",
    "version": 2
   },
   "file_extension": ".py",
   "mimetype": "text/x-python",
   "name": "python",
   "nbconvert_exporter": "python",
   "pygments_lexer": "ipython2",
   "version": "2.7.17"
  }
 },
 "nbformat": 4,
 "nbformat_minor": 2
}
