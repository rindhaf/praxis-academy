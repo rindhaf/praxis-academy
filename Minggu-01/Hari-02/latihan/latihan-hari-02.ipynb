{
 "cells": [
  {
   "cell_type": "code",
   "execution_count": 1,
   "metadata": {},
   "outputs": [
    {
     "data": {
      "text/plain": [
       "3"
      ]
     },
     "execution_count": 1,
     "metadata": {},
     "output_type": "execute_result"
    }
   ],
   "source": [
    "gunung = ['Sumbing', 'Krakatau', 'Sumbing', 'Sindoro',gunung 'Merapi', 'Sumbing', 'Merbabu']\n",
    "gunung.count('Sumbing')"
   ]
  },
  {
   "cell_type": "code",
   "execution_count": 3,
   "metadata": {},
   "outputs": [
    {
     "data": {
      "text/plain": [
       "0"
      ]
     },
     "execution_count": 3,
     "metadata": {},
     "output_type": "execute_result"
    }
   ],
   "source": [
    "gunung = ['Sumbing', 'Krakatau', 'Sumbing', 'Sindoro', 'Merapi', 'Sumbing', 'Merbabu']\n",
    "gunung.count('Rinjani')"
   ]
  },
  {
   "cell_type": "code",
   "execution_count": 5,
   "metadata": {},
   "outputs": [
    {
     "data": {
      "text/plain": [
       "3"
      ]
     },
     "execution_count": 5,
     "metadata": {},
     "output_type": "execute_result"
    }
   ],
   "source": [
    "gunung = ['Sumbing', 'Krakatau', 'Sumbing', 'Sindoro', 'Merapi', 'Sumbing', 'Merbabu']\n",
    "gunung.index('Sindoro')"
   ]
  },
  {
   "cell_type": "code",
   "execution_count": 6,
   "metadata": {},
   "outputs": [
    {
     "data": {
      "text/plain": [
       "4"
      ]
     },
     "execution_count": 6,
     "metadata": {},
     "output_type": "execute_result"
    }
   ],
   "source": [
    "gunung = ['Sumbing', 'Krakatau', 'Sumbing', 'Sindoro', 'Merapi', 'Sumbing', 'Merbabu']\n",
    "gunung.index('Merapi')"
   ]
  },
  {
   "cell_type": "code",
   "execution_count": 7,
   "metadata": {},
   "outputs": [
    {
     "data": {
      "text/plain": [
       "4"
      ]
     },
     "execution_count": 7,
     "metadata": {},
     "output_type": "execute_result"
    }
   ],
   "source": [
    "gunung = ['Sumbing', 'Krakatau', 'Sumbing', 'Sindoro', 'Merapi', 'Sumbing', 'Merbabu']\n",
    "gunung.index('Merapi', 2)"
   ]
  },
  {
   "cell_type": "code",
   "execution_count": 8,
   "metadata": {},
   "outputs": [
    {
     "data": {
      "text/plain": [
       "['Merbabu', 'Sumbing', 'Merapi', 'Sindoro', 'Sumbing', 'Krakatau', 'Sumbing']"
      ]
     },
     "execution_count": 8,
     "metadata": {},
     "output_type": "execute_result"
    }
   ],
   "source": [
    "gunung = ['Sumbing', 'Krakatau', 'Sumbing', 'Sindoro', 'Merapi', 'Sumbing', 'Merbabu']\n",
    "gunung.reverse()\n",
    "gunung"
   ]
  },
  {
   "cell_type": "code",
   "execution_count": 10,
   "metadata": {},
   "outputs": [
    {
     "data": {
      "text/plain": [
       "['Sumbing',\n",
       " 'Krakatau',\n",
       " 'Sumbing',\n",
       " 'Sindoro',\n",
       " 'Merapi',\n",
       " 'Sumbing',\n",
       " 'Merbabu',\n",
       " 'Agung']"
      ]
     },
     "execution_count": 10,
     "metadata": {},
     "output_type": "execute_result"
    }
   ],
   "source": [
    "gunung = ['Sumbing', 'Krakatau', 'Sumbing', 'Sindoro', 'Merapi', 'Sumbing', 'Merbabu']\n",
    "gunung.append('Agung')\n",
    "gunung"
   ]
  },
  {
   "cell_type": "code",
   "execution_count": 11,
   "metadata": {},
   "outputs": [
    {
     "data": {
      "text/plain": [
       "['Krakatau', 'Merapi', 'Merbabu', 'Sindoro', 'Sumbing', 'Sumbing', 'Sumbing']"
      ]
     },
     "execution_count": 11,
     "metadata": {},
     "output_type": "execute_result"
    }
   ],
   "source": [
    "gunung = ['Sumbing', 'Krakatau', 'Sumbing', 'Sindoro', 'Merapi', 'Sumbing', 'Merbabu']\n",
    "gunung.sort()\n",
    "gunung"
   ]
  },
  {
   "cell_type": "code",
   "execution_count": 12,
   "metadata": {},
   "outputs": [
    {
     "data": {
      "text/plain": [
       "['Sumbing', 'Krakatau', 'Sumbing', 'Sindoro', 'Merapi', 'Sumbing']"
      ]
     },
     "execution_count": 12,
     "metadata": {},
     "output_type": "execute_result"
    }
   ],
   "source": [
    "gunung = ['Sumbing', 'Krakatau', 'Sumbing', 'Sindoro', 'Merapi', 'Sumbing', 'Merbabu']\n",
    "gunung.pop()\n",
    "gunung"
   ]
  },
  {
   "cell_type": "code",
   "execution_count": null,
   "metadata": {},
   "outputs": [],
   "source": []
  }
 ],
 "metadata": {
  "kernelspec": {
   "display_name": "Python 2",
   "language": "python",
   "name": "python2"
  },
  "language_info": {
   "codemirror_mode": {
    "name": "ipython",
    "version": 2
   },
   "file_extension": ".py",
   "mimetype": "text/x-python",
   "name": "python",
   "nbconvert_exporter": "python",
   "pygments_lexer": "ipython2",
   "version": "2.7.17"
  }
 },
 "nbformat": 4,
 "nbformat_minor": 2
}
