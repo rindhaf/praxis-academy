{
 "cells": [
  {
   "cell_type": "code",
   "execution_count": 6,
   "metadata": {},
   "outputs": [],
   "source": [
    "def ex_boston(self):\n",
    "    from sklearn.datasets import load_boston\n",
    "    \n",
    "    scikit_data = load_boston()\n",
    "    scikit_model = StandardScaler().fit(scikit_data.data)\n",
    "\n",
    "    spec = converter.convert(scikit_model, scikit_data.feature_names, 'out').get_spec()\n",
    "\n",
    "    input_data = [dict(zip(scikit_data.feature_names, row)) \n",
    "            for row in scikit_data.data]\n",
    "\n",
    "    output_data = [{\"out\" : row} for row in scikit_model.transform(scikit_data.data)]\n",
    "\n",
    "    metrics = evaluate_transformer(spec, input_data, output_data)\n",
    "\n",
    "    assert metrics[\"num_errors\"] == 0\n",
    "    "
   ]
  },
  {
   "cell_type": "code",
   "execution_count": null,
   "metadata": {},
   "outputs": [],
   "source": []
  }
 ],
 "metadata": {
  "kernelspec": {
   "display_name": "Python 3",
   "language": "python",
   "name": "python3"
  },
  "language_info": {
   "codemirror_mode": {
    "name": "ipython",
    "version": 3
   },
   "file_extension": ".py",
   "mimetype": "text/x-python",
   "name": "python",
   "nbconvert_exporter": "python",
   "pygments_lexer": "ipython3",
   "version": "3.7.5"
  }
 },
 "nbformat": 4,
 "nbformat_minor": 2
}
