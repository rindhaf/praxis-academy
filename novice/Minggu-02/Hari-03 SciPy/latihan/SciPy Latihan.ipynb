{
 "cells": [
  {
   "cell_type": "code",
   "execution_count": 1,
   "metadata": {},
   "outputs": [
    {
     "name": "stdout",
     "output_type": "stream",
     "text": [
      "1000.0\n",
      "8.0\n",
      "1.0\n",
      "0.7071067811865475\n"
     ]
    }
   ],
   "source": [
    "from scipy import special\n",
    "a = special.exp10(3)\n",
    "print(a)\n",
    " \n",
    "b = special.exp2(3)\n",
    "print(b)\n",
    " \n",
    "c = special.sindg(90)\n",
    "print(c)\n",
    " \n",
    "d = special.cosdg(45)\n",
    "print(d)"
   ]
  },
  {
   "cell_type": "code",
   "execution_count": 6,
   "metadata": {},
   "outputs": [
    {
     "data": {
      "text/plain": [
       "(-1.3333333333333335, 1.4802973661668755e-14)"
      ]
     },
     "execution_count": 6,
     "metadata": {},
     "output_type": "execute_result"
    }
   ],
   "source": [
    "from scipy import integrate\n",
    "a = lambda y, x: x*y**2\n",
    "b = lambda x: 1\n",
    "c = lambda x: -1\n",
    "integrate.dblquad(a, 0, 2, b, c)"
   ]
  },
  {
   "cell_type": "code",
   "execution_count": 7,
   "metadata": {},
   "outputs": [
    {
     "data": {
      "text/plain": [
       "7371.0399999999945"
      ]
     },
     "execution_count": 7,
     "metadata": {},
     "output_type": "execute_result"
    }
   ],
   "source": [
    "import numpy as np\n",
    "from scipy.optimize import rosen\n",
    "a = 1.2 * np.arange(5)\n",
    "rosen(a)"
   ]
  },
  {
   "cell_type": "code",
   "execution_count": 8,
   "metadata": {},
   "outputs": [
    {
     "data": {
      "text/plain": [
       "array([0.96570182, 0.93255069, 0.86939478, 0.75497872, 0.56793357])"
      ]
     },
     "execution_count": 8,
     "metadata": {},
     "output_type": "execute_result"
    }
   ],
   "source": [
    "from scipy import optimize\n",
    "a = [2.4, 1.7, 3.1, 2.9, 0.2]\n",
    "b = optimize.minimize(optimize.rosen, a, method='Nelder-Mead')\n",
    "b.x"
   ]
  },
  {
   "cell_type": "code",
   "execution_count": 15,
   "metadata": {},
   "outputs": [
    {
     "name": "stdout",
     "output_type": "stream",
     "text": [
      "[ 6.+0.j -2.+2.j -2.+0.j -2.-2.j]\n"
     ]
    }
   ],
   "source": [
    "from scipy.fftpack import fft, ifft\n",
    "x = np.array([0,1,2,3])\n",
    "y = fft(x)\n",
    "print(y)"
   ]
  },
  {
   "cell_type": "code",
   "execution_count": 16,
   "metadata": {},
   "outputs": [
    {
     "name": "stdout",
     "output_type": "stream",
     "text": [
      "[ 1.5+0.j  -0.5-0.5j -0.5+0.j  -0.5+0.5j]\n"
     ]
    }
   ],
   "source": [
    "from scipy.fftpack import fft, ifft\n",
    "x = np.array([0,1,2,3])\n",
    "y = ifft(x)\n",
    "print(y)"
   ]
  }
 ],
 "metadata": {
  "kernelspec": {
   "display_name": "Python 3",
   "language": "python",
   "name": "python3"
  },
  "language_info": {
   "codemirror_mode": {
    "name": "ipython",
    "version": 3
   },
   "file_extension": ".py",
   "mimetype": "text/x-python",
   "name": "python",
   "nbconvert_exporter": "python",
   "pygments_lexer": "ipython3",
   "version": "3.7.5"
  }
 },
 "nbformat": 4,
 "nbformat_minor": 2
}
