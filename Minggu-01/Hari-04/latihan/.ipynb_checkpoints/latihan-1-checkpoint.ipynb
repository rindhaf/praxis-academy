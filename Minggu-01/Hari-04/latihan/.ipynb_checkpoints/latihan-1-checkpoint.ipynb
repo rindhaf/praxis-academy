{
 "cells": [
  {
   "cell_type": "code",
   "execution_count": 2,
   "metadata": {},
   "outputs": [
    {
     "data": {
      "text/plain": [
       "[3, 2, 1]"
      ]
     },
     "execution_count": 2,
     "metadata": {},
     "output_type": "execute_result"
    }
   ],
   "source": [
    "list(map(int, [3, 2, 1]))"
   ]
  },
  {
   "cell_type": "code",
   "execution_count": 5,
   "metadata": {},
   "outputs": [
    {
     "data": {
      "text/plain": [
       "<function __main__.world>"
      ]
     },
     "execution_count": 5,
     "metadata": {},
     "output_type": "execute_result"
    }
   ],
   "source": [
    "def hello_world(h):\n",
    "     def world(w):\n",
    "         print(h, w)\n",
    "     return world # returning functions\n",
    "\n",
    "h = hello_world # assigning\n",
    "x = h(\"rin\") # assigning\n",
    "x"
   ]
  },
  {
   "cell_type": "code",
   "execution_count": 6,
   "metadata": {},
   "outputs": [
    {
     "data": {
      "text/plain": [
       "[<function __main__.hello_world>, <function __main__.world>]"
      ]
     },
     "execution_count": 6,
     "metadata": {},
     "output_type": "execute_result"
    }
   ],
   "source": [
    "function_list = [h, x]\n",
    "function_list"
   ]
  },
  {
   "cell_type": "code",
   "execution_count": 8,
   "metadata": {},
   "outputs": [],
   "source": [
    "def sum(list):\n",
    "    s = 0\n",
    "    for l in list:\n",
    "        s += l\n",
    "    return s"
   ]
  },
  {
   "cell_type": "code",
   "execution_count": 9,
   "metadata": {},
   "outputs": [
    {
     "data": {
      "text/plain": [
       "[None, None, None]"
      ]
     },
     "execution_count": 9,
     "metadata": {},
     "output_type": "execute_result"
    }
   ],
   "source": [
    "def func1():\n",
    "    pass\n",
    "\n",
    "def func2():\n",
    "    pass\n",
    "\n",
    "def func3():\n",
    "    pass\n",
    "\n",
    "executing = lambda f: f()\n",
    "map(executing, [func1, func2, func3])"
   ]
  },
  {
   "cell_type": "code",
   "execution_count": 10,
   "metadata": {},
   "outputs": [],
   "source": [
    "def fib(n):\n",
    "    if n == 0: return 0\n",
    "    elif n == 1: return 1\n",
    "    else: return fib(n-1)+fib(n-2)"
   ]
  },
  {
   "cell_type": "code",
   "execution_count": 11,
   "metadata": {},
   "outputs": [
    {
     "ename": "SyntaxError",
     "evalue": "invalid syntax (<ipython-input-11-099e72b1f815>, line 17)",
     "output_type": "error",
     "traceback": [
      "\u001b[0;36m  File \u001b[0;32m\"<ipython-input-11-099e72b1f815>\"\u001b[0;36m, line \u001b[0;32m17\u001b[0m\n\u001b[0;31m    result = print(decrement)\u001b[0m\n\u001b[0m                 ^\u001b[0m\n\u001b[0;31mSyntaxError\u001b[0m\u001b[0;31m:\u001b[0m invalid syntax\n"
     ]
    }
   ],
   "source": [
    "# procedural code\n",
    "starting_number = 96\n",
    "\n",
    "# get the square of the number\n",
    "square = starting_number ** 2\n",
    "\n",
    "# increment the number by 1\n",
    "increment = square + 1\n",
    "\n",
    "# cube of the number\n",
    "cube = increment ** 3\n",
    "\n",
    "# decrease the cube by 1\n",
    "decrement = cube - 1\n",
    "\n",
    "# get the final result\n",
    "result = print(decrement) "
   ]
  },
  {
   "cell_type": "code",
   "execution_count": 12,
   "metadata": {},
   "outputs": [],
   "source": [
    "def call(x, f):\n",
    "    return f(x)"
   ]
  },
  {
   "cell_type": "code",
   "execution_count": 13,
   "metadata": {},
   "outputs": [
    {
     "data": {
      "text/plain": [
       "9"
      ]
     },
     "execution_count": 13,
     "metadata": {},
     "output_type": "execute_result"
    }
   ],
   "source": [
    "def add(a, b):\n",
    "    return a + b\n",
    "plus = add\n",
    "plus(4, 5)"
   ]
  },
  {
   "cell_type": "code",
   "execution_count": 14,
   "metadata": {},
   "outputs": [
    {
     "data": {
      "text/plain": [
       "9"
      ]
     },
     "execution_count": 14,
     "metadata": {},
     "output_type": "execute_result"
    }
   ],
   "source": [
    "(lambda a, b: a + b)(4, 5)\n",
    "\n",
    "addition = lambda a, b: a + b\n",
    "addition(4, 5)"
   ]
  },
  {
   "cell_type": "code",
   "execution_count": 15,
   "metadata": {},
   "outputs": [
    {
     "data": {
      "text/plain": [
       "['Isaac Asimov',\n",
       " 'Margaret Atwood',\n",
       " 'Ray Bradbury',\n",
       " 'Octavia Butler',\n",
       " 'Usula K Le Guin',\n",
       " 'Neal Stephenson']"
      ]
     },
     "execution_count": 15,
     "metadata": {},
     "output_type": "execute_result"
    }
   ],
   "source": [
    "authors = ['Octavia Butler', 'Isaac Asimov', 'Neal Stephenson', 'Margaret Atwood', 'Usula K Le Guin', 'Ray Bradbury']\n",
    "sorted(authors, key=len)  # Returns list ordered by length of author name\n",
    "sorted(authors, key=lambda name: name.split()[-1])"
   ]
  },
  {
   "cell_type": "code",
   "execution_count": 16,
   "metadata": {},
   "outputs": [
    {
     "ename": "SyntaxError",
     "evalue": "invalid syntax (<ipython-input-16-b20bda3b38dd>, line 5)",
     "output_type": "error",
     "traceback": [
      "\u001b[0;36m  File \u001b[0;32m\"<ipython-input-16-b20bda3b38dd>\"\u001b[0;36m, line \u001b[0;32m5\u001b[0m\n\u001b[0;31m    reduce(lambda: x, y: x * y, val, 1)\u001b[0m\n\u001b[0m                       ^\u001b[0m\n\u001b[0;31mSyntaxError\u001b[0m\u001b[0;31m:\u001b[0m invalid syntax\n"
     ]
    }
   ],
   "source": [
    "val = [1, 2, 3, 4, 5, 6]\n",
    "\n",
    "\n",
    "list(map(lambda x: x * 2, val)) \n",
    "reduce(lambda: x, y: x * y, val, 1)"
   ]
  },
  {
   "cell_type": "code",
   "execution_count": 18,
   "metadata": {},
   "outputs": [
    {
     "ename": "SyntaxError",
     "evalue": "invalid syntax (<ipython-input-18-d493551501c9>, line 10)",
     "output_type": "error",
     "traceback": [
      "\u001b[0;36m  File \u001b[0;32m\"<ipython-input-18-d493551501c9>\"\u001b[0;36m, line \u001b[0;32m10\u001b[0m\n\u001b[0;31m    raise exc\u001b[0m\n\u001b[0m        ^\u001b[0m\n\u001b[0;31mSyntaxError\u001b[0m\u001b[0;31m:\u001b[0m invalid syntax\n"
     ]
    }
   ],
   "source": []
  },
  {
   "cell_type": "code",
   "execution_count": 19,
   "metadata": {},
   "outputs": [
    {
     "name": "stdout",
     "output_type": "stream",
     "text": [
      "[1, 3, 5, 10]\n",
      "[2, 6, 10, 20]\n"
     ]
    }
   ],
   "source": [
    "def multiply_2_pure(numbers):\n",
    "    new_numbers = []\n",
    "    for n in numbers:\n",
    "        new_numbers.append(n * 2)\n",
    "    return new_numbers\n",
    "\n",
    "original_numbers = [1, 3, 5, 10]\n",
    "changed_numbers = multiply_2_pure(original_numbers)\n",
    "print(original_numbers)\n",
    "print(changed_numbers)  "
   ]
  },
  {
   "cell_type": "code",
   "execution_count": 21,
   "metadata": {},
   "outputs": [
    {
     "name": "stdout",
     "output_type": "stream",
     "text": [
      "[4, 5]\n",
      "[4, 5]\n"
     ]
    },
    {
     "ename": "TypeError",
     "evalue": "'tuple' object does not support item assignment",
     "output_type": "error",
     "traceback": [
      "\u001b[0;31m---------------------------------------------------------------------------\u001b[0m",
      "\u001b[0;31mTypeError\u001b[0m                                 Traceback (most recent call last)",
      "\u001b[0;32m<ipython-input-21-dda0ae951da0>\u001b[0m in \u001b[0;36m<module>\u001b[0;34m()\u001b[0m\n\u001b[1;32m     10\u001b[0m \u001b[0;34m\u001b[0m\u001b[0m\n\u001b[1;32m     11\u001b[0m \u001b[0;31m# This fails with the tuple\u001b[0m\u001b[0;34m\u001b[0m\u001b[0;34m\u001b[0m\u001b[0m\n\u001b[0;32m---> 12\u001b[0;31m \u001b[0mimmutable_collection\u001b[0m\u001b[0;34m[\u001b[0m\u001b[0;36m1\u001b[0m\u001b[0;34m]\u001b[0m \u001b[0;34m=\u001b[0m \u001b[0;36m15\u001b[0m\u001b[0;34m\u001b[0m\u001b[0m\n\u001b[0m",
      "\u001b[0;31mTypeError\u001b[0m: 'tuple' object does not support item assignment"
     ]
    }
   ],
   "source": [
    "mutable_collection = ['Tim', 10, [4, 5]]\n",
    "immutable_collection = ('Tim', 10, [4, 5])\n",
    "\n",
    "# Reading from data types are essentially the same:\n",
    "print(mutable_collection[2])    # [4, 5]\n",
    "print(immutable_collection[2])  # [4, 5]\n",
    "\n",
    "# Let's change the 2nd value from 10 to 15\n",
    "mutable_collection[1] = 15\n",
    "\n",
    "# This fails with the tuple\n",
    "immutable_collection[1] = 15\n"
   ]
  },
  {
   "cell_type": "code",
   "execution_count": 22,
   "metadata": {},
   "outputs": [
    {
     "name": "stdout",
     "output_type": "stream",
     "text": [
      "Hello\n",
      "Hello\n",
      "Hello\n",
      "Hello\n",
      "Hello\n"
     ]
    }
   ],
   "source": [
    "def write_repeat(message, n):\n",
    "    for i in range(n):\n",
    "        print(message)\n",
    "\n",
    "write_repeat('Hello', 5)"
   ]
  },
  {
   "cell_type": "code",
   "execution_count": 24,
   "metadata": {},
   "outputs": [
    {
     "name": "stdout",
     "output_type": "stream",
     "text": [
      "[25, 90]\n"
     ]
    }
   ],
   "source": [
    "def add2(numbers):\n",
    "    new_numbers = []\n",
    "    for n in numbers:\n",
    "        new_numbers.append(n + 2)\n",
    "    return new_numbers\n",
    "\n",
    "print(add2([23, 88])) "
   ]
  },
  {
   "cell_type": "code",
   "execution_count": 25,
   "metadata": {},
   "outputs": [
    {
     "name": "stdout",
     "output_type": "stream",
     "text": [
      "[28, 93]\n",
      "[33, 98]\n"
     ]
    }
   ],
   "source": [
    "def hof_add(increment):\n",
    "    # Create a function that loops and adds the increment\n",
    "    def add_increment(numbers):\n",
    "        new_numbers = []\n",
    "        for n in numbers:\n",
    "            new_numbers.append(n + increment)\n",
    "        return new_numbers\n",
    "    # We return the function as we do any other value\n",
    "    return add_increment\n",
    "\n",
    "add5 = hof_add(5)\n",
    "print(add5([23, 88]))  \n",
    "add10 = hof_add(10)\n",
    "print(add10([23, 88]))"
   ]
  },
  {
   "cell_type": "code",
   "execution_count": 26,
   "metadata": {},
   "outputs": [
    {
     "name": "stdout",
     "output_type": "stream",
     "text": [
      "36\n"
     ]
    }
   ],
   "source": [
    "def hof_product(multiplier):\n",
    "    return lambda x: x * multiplier\n",
    "\n",
    "mult6 = hof_product(6)\n",
    "print(mult6(6)) "
   ]
  },
  {
   "cell_type": "code",
   "execution_count": 27,
   "metadata": {},
   "outputs": [
    {
     "name": "stdout",
     "output_type": "stream",
     "text": [
      "['Hi Shivani', 'Hi Jason', 'Hi Yusef', 'Hi Sakura']\n",
      "Hi Shivani\n",
      "Hi Jason\n",
      "Hi Yusef\n",
      "Hi Sakura\n"
     ]
    }
   ],
   "source": [
    "names = ['Shivani', 'Jason', 'Yusef', 'Sakura']\n",
    "greeted_names = map(lambda x: 'Hi ' + x, names)\n",
    "\n",
    "# This prints something similar to: <map object at 0x10ed93cc0>\n",
    "print(greeted_names)\n",
    "# Recall, that map returns an iterator \n",
    "\n",
    "# We can print all names in a for loop\n",
    "for name in greeted_names:\n",
    "    print(name)"
   ]
  },
  {
   "cell_type": "code",
   "execution_count": 28,
   "metadata": {},
   "outputs": [
    {
     "name": "stdout",
     "output_type": "stream",
     "text": [
      "[35]\n"
     ]
    }
   ],
   "source": [
    "numbers = [13, 4, 18, 35]\n",
    "div_by_5 = filter(lambda num: num % 5 == 0, numbers)\n",
    "\n",
    "# We can convert the iterator into a list\n",
    "print(list(div_by_5))\n"
   ]
  },
  {
   "cell_type": "code",
   "execution_count": 29,
   "metadata": {},
   "outputs": [
    {
     "name": "stdout",
     "output_type": "stream",
     "text": [
      "[27, 216, 729, 1728, 3375, 5832]\n"
     ]
    }
   ],
   "source": [
    "arbitrary_numbers = map(lambda num: num ** 3, filter(lambda num: num % 3 == 0, range(1, 21)))\n",
    "\n",
    "print(list(arbitrary_numbers)) "
   ]
  },
  {
   "cell_type": "code",
   "execution_count": 30,
   "metadata": {},
   "outputs": [
    {
     "name": "stdout",
     "output_type": "stream",
     "text": [
      "['Hi Shivani', 'Hi Jan', 'Hi Yusef', 'Hi Sakura']\n"
     ]
    }
   ],
   "source": [
    "# Recall\n",
    "names = ['Shivani', 'Jan', 'Yusef', 'Sakura']\n",
    "# Instead of: map(lambda x: 'Hi ' + x, names), we can do\n",
    "greeted_names = ['Hi ' + name for name in names]\n",
    "\n",
    "print(greeted_names)"
   ]
  },
  {
   "cell_type": "code",
   "execution_count": 31,
   "metadata": {},
   "outputs": [
    {
     "name": "stdout",
     "output_type": "stream",
     "text": [
      "[35]\n",
      "[27, 216, 729, 1728, 3375, 5832]\n"
     ]
    }
   ],
   "source": [
    "# Recall\n",
    "numbers = [13, 4, 18, 35]\n",
    "# Instead of: filter(lambda num: num % 5 == 0, numbers), we can do\n",
    "div_by_5 = [num for num in numbers if num % 5 == 0]\n",
    "\n",
    "print(div_by_5) # [35]\n",
    "\n",
    "# We can manage the combined case as well:\n",
    "# Instead of: \n",
    "# map(lambda num: num ** 3, filter(lambda num: num % 3 == 0, range(1, 21)))\n",
    "arbitrary_numbers = [num ** 3 for num in range(1, 21) if num % 3 == 0]\n",
    "print(arbitrary_numbers) "
   ]
  },
  {
   "cell_type": "code",
   "execution_count": null,
   "metadata": {},
   "outputs": [],
   "source": []
  }
 ],
 "metadata": {
  "kernelspec": {
   "display_name": "Python 2",
   "language": "python",
   "name": "python2"
  },
  "language_info": {
   "codemirror_mode": {
    "name": "ipython",
    "version": 2
   },
   "file_extension": ".py",
   "mimetype": "text/x-python",
   "name": "python",
   "nbconvert_exporter": "python",
   "pygments_lexer": "ipython2",
   "version": "2.7.17"
  }
 },
 "nbformat": 4,
 "nbformat_minor": 2
}
