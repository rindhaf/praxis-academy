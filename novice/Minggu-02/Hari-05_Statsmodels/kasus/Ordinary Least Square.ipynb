{
 "cells": [
  {
   "cell_type": "code",
   "execution_count": 1,
   "metadata": {},
   "outputs": [],
   "source": [
    "%matplotlib inline"
   ]
  },
  {
   "cell_type": "code",
   "execution_count": 3,
   "metadata": {},
   "outputs": [
    {
     "data": {
      "text/plain": [
       "<function RandomState.seed>"
      ]
     },
     "execution_count": 3,
     "metadata": {},
     "output_type": "execute_result"
    }
   ],
   "source": [
    "from __future__ import print_function\n",
    "import numpy as np\n",
    "import statsmodels.api as sm\n",
    "import matplotlib.pyplot as plt\n",
    "from statsmodels.sandbox.regression.predstd import wls_prediction_std\n",
    "\n",
    "np.random.seed(9876789)\n",
    "np.random.seed"
   ]
  },
  {
   "cell_type": "code",
   "execution_count": 5,
   "metadata": {},
   "outputs": [
    {
     "data": {
      "text/plain": [
       "array([-0.02133065,  0.72294685,  0.78878892,  1.80125439, -0.29653617,\n",
       "        0.72030046,  0.36461901, -0.79492558, -0.29780149,  0.45911125,\n",
       "        0.12691258, -0.37303444,  0.44267983,  0.02966124,  0.94288908,\n",
       "       -0.21339695,  0.10913707, -0.88374171,  0.84784613, -1.57843823,\n",
       "        0.69765956, -2.45733254,  2.11128891, -1.19762856,  0.14385429,\n",
       "        0.99117006, -1.26458558,  1.00722524,  1.5456179 , -0.88545487,\n",
       "       -1.30827221,  0.93462099, -1.14902132,  2.37279208, -0.37782534,\n",
       "        0.3612157 , -0.23053922, -1.35262497,  0.21398518, -0.54340682,\n",
       "        0.75024152,  1.09332836,  0.01237105, -0.93758387, -0.36110813,\n",
       "        0.74369469, -0.14670648, -0.69744922,  1.29446466,  0.4779761 ,\n",
       "       -0.71776665,  0.09665539,  1.02756553, -0.83940571,  0.74676692,\n",
       "        0.26208469,  0.61818826,  1.36612266, -1.30756545, -1.43303462,\n",
       "        0.08554492,  0.40730973, -1.35951172, -0.28515036,  0.43463344,\n",
       "        1.26406316,  0.58753075,  1.2122332 ,  0.62616465, -0.73651833,\n",
       "        1.20307063, -0.59448284, -0.47670403, -0.09446107, -0.44870628,\n",
       "       -0.60000296,  1.28234745,  1.02443264, -0.19651244,  0.35088106,\n",
       "        1.38979303, -0.39925201, -0.22388963,  1.09085548, -1.02016252,\n",
       "       -0.0523877 , -1.56920218, -0.27993844,  1.13613405, -1.66308054,\n",
       "       -0.01401943, -1.12677375, -1.99415209, -0.15179101,  0.91135173,\n",
       "        0.21956863,  0.13939775, -0.11986895,  1.01851666, -0.09876834])"
      ]
     },
     "execution_count": 5,
     "metadata": {},
     "output_type": "execute_result"
    }
   ],
   "source": [
    "nsample = 100\n",
    "x = np.linspace(0, 10, 100)\n",
    "X = np.column_stack((x, x**2))\n",
    "beta = np.array([1, 0.1, 10])\n",
    "e = np.random.normal(size=nsample)\n",
    "e"
   ]
  },
  {
   "cell_type": "code",
   "execution_count": 6,
   "metadata": {},
   "outputs": [],
   "source": [
    "X = sm.add_constant(X)\n",
    "y = np.dot(X, beta) + e"
   ]
  },
  {
   "cell_type": "code",
   "execution_count": 7,
   "metadata": {},
   "outputs": [
    {
     "data": {
      "text/plain": [
       "array([ 0.        ,  0.1010101 ,  0.2020202 ,  0.3030303 ,  0.4040404 ,\n",
       "        0.50505051,  0.60606061,  0.70707071,  0.80808081,  0.90909091,\n",
       "        1.01010101,  1.11111111,  1.21212121,  1.31313131,  1.41414141,\n",
       "        1.51515152,  1.61616162,  1.71717172,  1.81818182,  1.91919192,\n",
       "        2.02020202,  2.12121212,  2.22222222,  2.32323232,  2.42424242,\n",
       "        2.52525253,  2.62626263,  2.72727273,  2.82828283,  2.92929293,\n",
       "        3.03030303,  3.13131313,  3.23232323,  3.33333333,  3.43434343,\n",
       "        3.53535354,  3.63636364,  3.73737374,  3.83838384,  3.93939394,\n",
       "        4.04040404,  4.14141414,  4.24242424,  4.34343434,  4.44444444,\n",
       "        4.54545455,  4.64646465,  4.74747475,  4.84848485,  4.94949495,\n",
       "        5.05050505,  5.15151515,  5.25252525,  5.35353535,  5.45454545,\n",
       "        5.55555556,  5.65656566,  5.75757576,  5.85858586,  5.95959596,\n",
       "        6.06060606,  6.16161616,  6.26262626,  6.36363636,  6.46464646,\n",
       "        6.56565657,  6.66666667,  6.76767677,  6.86868687,  6.96969697,\n",
       "        7.07070707,  7.17171717,  7.27272727,  7.37373737,  7.47474747,\n",
       "        7.57575758,  7.67676768,  7.77777778,  7.87878788,  7.97979798,\n",
       "        8.08080808,  8.18181818,  8.28282828,  8.38383838,  8.48484848,\n",
       "        8.58585859,  8.68686869,  8.78787879,  8.88888889,  8.98989899,\n",
       "        9.09090909,  9.19191919,  9.29292929,  9.39393939,  9.49494949,\n",
       "        9.5959596 ,  9.6969697 ,  9.7979798 ,  9.8989899 , 10.        ])"
      ]
     },
     "execution_count": 7,
     "metadata": {},
     "output_type": "execute_result"
    }
   ],
   "source": [
    "x"
   ]
  },
  {
   "cell_type": "code",
   "execution_count": 8,
   "metadata": {},
   "outputs": [
    {
     "data": {
      "text/plain": [
       "array([9.78669345e-01, 1.83507827e+00, 2.21711256e+00, 3.74983106e+00,\n",
       "       2.37635435e+00, 4.32156564e+00, 5.09831965e+00, 5.27527134e+00,\n",
       "       7.31295252e+00, 9.81448316e+00, 1.14309632e+01, 1.30837557e+01,\n",
       "       1.62562703e+01, 1.84041128e+01, 2.20822626e+01, 2.38949593e+01,\n",
       "       2.73905369e+01, 2.97747625e+01, 3.50875156e+01, 3.64464572e+01,\n",
       "       4.27118418e+01, 4.37501973e+01, 5.27162272e+01, 5.40087789e+01,\n",
       "       6.01557919e+01, 6.60126985e+01, 6.89705945e+01, 7.66601178e+01,\n",
       "       8.28202838e+01, 8.62150451e+01, 9.18221227e+01, 1.00298972e+02,\n",
       "       1.04653346e+02, 1.14817237e+02, 1.18912757e+02, 1.26701997e+02,\n",
       "       1.33364502e+02, 1.39700737e+02, 1.48929728e+02, 1.56038779e+02,\n",
       "       1.65402930e+02, 1.74020581e+02, 1.81418248e+02, 1.89150979e+02,\n",
       "       1.98614201e+02, 2.08809810e+02, 2.17214277e+02, 2.26162463e+02,\n",
       "       2.37857366e+02, 2.46947928e+02, 2.55863297e+02, 2.66992890e+02,\n",
       "       2.78443033e+02, 2.87299356e+02, 2.99812883e+02, 3.10459616e+02,\n",
       "       3.22151195e+02, 3.34438666e+02, 3.43508576e+02, 3.55330765e+02,\n",
       "       3.69001064e+02, 3.81678609e+02, 3.92471628e+02, 4.06309891e+02,\n",
       "       4.19997637e+02, 4.33999090e+02, 4.46698642e+02, 4.60903489e+02,\n",
       "       4.74101626e+02, 4.86727210e+02, 5.02859126e+02, 5.15457961e+02,\n",
       "       5.30176189e+02, 5.45362941e+02, 5.60017267e+02, 5.75078601e+02,\n",
       "       5.92377644e+02, 6.07740482e+02, 6.22344351e+02, 6.38920619e+02,\n",
       "       6.56192466e+02, 6.70840417e+02, 6.87656837e+02, 7.05816700e+02,\n",
       "       7.20754860e+02, 7.38975875e+02, 7.54916361e+02, 7.73866985e+02,\n",
       "       7.93148480e+02, 8.08418748e+02, 8.28341352e+02, 8.45706202e+02,\n",
       "       8.63520489e+02, 8.84248576e+02, 9.04401506e+02, 9.23003570e+02,\n",
       "       9.42421308e+02, 9.61864010e+02, 9.82908426e+02, 1.00190123e+03])"
      ]
     },
     "execution_count": 8,
     "metadata": {},
     "output_type": "execute_result"
    }
   ],
   "source": [
    "y"
   ]
  },
  {
   "cell_type": "code",
   "execution_count": 9,
   "metadata": {},
   "outputs": [
    {
     "name": "stdout",
     "output_type": "stream",
     "text": [
      "[ 0.          0.1010101   0.2020202   0.3030303   0.4040404   0.50505051\n",
      "  0.60606061  0.70707071  0.80808081  0.90909091  1.01010101  1.11111111\n",
      "  1.21212121  1.31313131  1.41414141  1.51515152  1.61616162  1.71717172\n",
      "  1.81818182  1.91919192  2.02020202  2.12121212  2.22222222  2.32323232\n",
      "  2.42424242  2.52525253  2.62626263  2.72727273  2.82828283  2.92929293\n",
      "  3.03030303  3.13131313  3.23232323  3.33333333  3.43434343  3.53535354\n",
      "  3.63636364  3.73737374  3.83838384  3.93939394  4.04040404  4.14141414\n",
      "  4.24242424  4.34343434  4.44444444  4.54545455  4.64646465  4.74747475\n",
      "  4.84848485  4.94949495  5.05050505  5.15151515  5.25252525  5.35353535\n",
      "  5.45454545  5.55555556  5.65656566  5.75757576  5.85858586  5.95959596\n",
      "  6.06060606  6.16161616  6.26262626  6.36363636  6.46464646  6.56565657\n",
      "  6.66666667  6.76767677  6.86868687  6.96969697  7.07070707  7.17171717\n",
      "  7.27272727  7.37373737  7.47474747  7.57575758  7.67676768  7.77777778\n",
      "  7.87878788  7.97979798  8.08080808  8.18181818  8.28282828  8.38383838\n",
      "  8.48484848  8.58585859  8.68686869  8.78787879  8.88888889  8.98989899\n",
      "  9.09090909  9.19191919  9.29292929  9.39393939  9.49494949  9.5959596\n",
      "  9.6969697   9.7979798   9.8989899  10.        ] [9.78669345e-01 1.83507827e+00 2.21711256e+00 3.74983106e+00\n",
      " 2.37635435e+00 4.32156564e+00 5.09831965e+00 5.27527134e+00\n",
      " 7.31295252e+00 9.81448316e+00 1.14309632e+01 1.30837557e+01\n",
      " 1.62562703e+01 1.84041128e+01 2.20822626e+01 2.38949593e+01\n",
      " 2.73905369e+01 2.97747625e+01 3.50875156e+01 3.64464572e+01\n",
      " 4.27118418e+01 4.37501973e+01 5.27162272e+01 5.40087789e+01\n",
      " 6.01557919e+01 6.60126985e+01 6.89705945e+01 7.66601178e+01\n",
      " 8.28202838e+01 8.62150451e+01 9.18221227e+01 1.00298972e+02\n",
      " 1.04653346e+02 1.14817237e+02 1.18912757e+02 1.26701997e+02\n",
      " 1.33364502e+02 1.39700737e+02 1.48929728e+02 1.56038779e+02\n",
      " 1.65402930e+02 1.74020581e+02 1.81418248e+02 1.89150979e+02\n",
      " 1.98614201e+02 2.08809810e+02 2.17214277e+02 2.26162463e+02\n",
      " 2.37857366e+02 2.46947928e+02 2.55863297e+02 2.66992890e+02\n",
      " 2.78443033e+02 2.87299356e+02 2.99812883e+02 3.10459616e+02\n",
      " 3.22151195e+02 3.34438666e+02 3.43508576e+02 3.55330765e+02\n",
      " 3.69001064e+02 3.81678609e+02 3.92471628e+02 4.06309891e+02\n",
      " 4.19997637e+02 4.33999090e+02 4.46698642e+02 4.60903489e+02\n",
      " 4.74101626e+02 4.86727210e+02 5.02859126e+02 5.15457961e+02\n",
      " 5.30176189e+02 5.45362941e+02 5.60017267e+02 5.75078601e+02\n",
      " 5.92377644e+02 6.07740482e+02 6.22344351e+02 6.38920619e+02\n",
      " 6.56192466e+02 6.70840417e+02 6.87656837e+02 7.05816700e+02\n",
      " 7.20754860e+02 7.38975875e+02 7.54916361e+02 7.73866985e+02\n",
      " 7.93148480e+02 8.08418748e+02 8.28341352e+02 8.45706202e+02\n",
      " 8.63520489e+02 8.84248576e+02 9.04401506e+02 9.23003570e+02\n",
      " 9.42421308e+02 9.61864010e+02 9.82908426e+02 1.00190123e+03]\n"
     ]
    }
   ],
   "source": [
    "print(x, y)"
   ]
  },
  {
   "cell_type": "code",
   "execution_count": 10,
   "metadata": {},
   "outputs": [
    {
     "name": "stdout",
     "output_type": "stream",
     "text": [
      "                            OLS Regression Results                            \n",
      "==============================================================================\n",
      "Dep. Variable:                      y   R-squared:                       1.000\n",
      "Model:                            OLS   Adj. R-squared:                  1.000\n",
      "Method:                 Least Squares   F-statistic:                 5.083e+06\n",
      "Date:                Thu, 28 Nov 2019   Prob (F-statistic):          3.25e-244\n",
      "Time:                        11:26:08   Log-Likelihood:                -134.79\n",
      "No. Observations:                 100   AIC:                             275.6\n",
      "Df Residuals:                      97   BIC:                             283.4\n",
      "Df Model:                           2                                         \n",
      "Covariance Type:            nonrobust                                         \n",
      "==============================================================================\n",
      "                 coef    std err          t      P>|t|      [0.025      0.975]\n",
      "------------------------------------------------------------------------------\n",
      "const          1.1876      0.278      4.270      0.000       0.636       1.740\n",
      "x1             0.0675      0.129      0.525      0.601      -0.188       0.323\n",
      "x2            10.0009      0.012    803.987      0.000       9.976      10.026\n",
      "==============================================================================\n",
      "Omnibus:                        0.629   Durbin-Watson:                   2.451\n",
      "Prob(Omnibus):                  0.730   Jarque-Bera (JB):                0.766\n",
      "Skew:                          -0.151   Prob(JB):                        0.682\n",
      "Kurtosis:                       2.696   Cond. No.                         144.\n",
      "==============================================================================\n",
      "\n",
      "Warnings:\n",
      "[1] Standard Errors assume that the covariance matrix of the errors is correctly specified.\n"
     ]
    }
   ],
   "source": [
    "model = sm.OLS(y, X)\n",
    "results = model.fit()\n",
    "print(results.summary())"
   ]
  },
  {
   "cell_type": "code",
   "execution_count": 11,
   "metadata": {},
   "outputs": [
    {
     "name": "stdout",
     "output_type": "stream",
     "text": [
      "Parameters:  [ 1.1875799   0.06751355 10.00087227]\n",
      "R2:  0.9999904584846492\n"
     ]
    }
   ],
   "source": [
    "print('Parameters: ', results.params)\n",
    "print('R2: ', results.rsquared)"
   ]
  },
  {
   "cell_type": "code",
   "execution_count": 14,
   "metadata": {},
   "outputs": [
    {
     "data": {
      "text/plain": [
       "array([ 4.14299754,  5.47997971,  5.49635809,  6.00134196,  6.46009008,\n",
       "        5.73182648,  6.25422651,  6.81623669,  5.78991882,  6.35199159,\n",
       "        5.88844406,  6.40734029,  7.51308087,  7.95023084,  7.37470646,\n",
       "        8.06120492,  7.56449082,  8.77151177,  8.91061178,  9.69704557,\n",
       "        9.42283172,  9.05953799,  9.74655014,  9.14203048,  8.89730433,\n",
       "        9.51347665,  9.16943008,  8.36760714,  9.19860253,  9.90218113,\n",
       "        9.70343065,  9.38005349, 10.53270376, 10.01640744, 10.88260005,\n",
       "       10.13053463, 11.10216091, 11.35314861, 10.92519877, 11.28069654,\n",
       "       10.94979986, 10.12044848, 11.51546499,  9.67924959, 10.44346466,\n",
       "       11.06792384, 11.20988814, 11.03588851, 10.53427996, 11.1916786 ])"
      ]
     },
     "execution_count": 14,
     "metadata": {},
     "output_type": "execute_result"
    }
   ],
   "source": [
    "nsample = 50\n",
    "sig = 0.5\n",
    "x = np.linspace(0, 20, nsample)\n",
    "X = np.column_stack((x, np.sin(x), (x-5)**2, np.ones(nsample)))\n",
    "beta = [0.5, 0.5, -0.02, 5.]\n",
    "\n",
    "y_true = np.dot(X, beta)\n",
    "y = y_true + sig * np.random.normal(size=nsample)\n",
    "y"
   ]
  },
  {
   "cell_type": "code",
   "execution_count": 15,
   "metadata": {},
   "outputs": [
    {
     "name": "stdout",
     "output_type": "stream",
     "text": [
      "                            OLS Regression Results                            \n",
      "==============================================================================\n",
      "Dep. Variable:                      y   R-squared:                       0.944\n",
      "Model:                            OLS   Adj. R-squared:                  0.940\n",
      "Method:                 Least Squares   F-statistic:                     258.0\n",
      "Date:                Thu, 28 Nov 2019   Prob (F-statistic):           8.99e-29\n",
      "Time:                        11:27:40   Log-Likelihood:                -32.701\n",
      "No. Observations:                  50   AIC:                             73.40\n",
      "Df Residuals:                      46   BIC:                             81.05\n",
      "Df Model:                           3                                         \n",
      "Covariance Type:            nonrobust                                         \n",
      "==============================================================================\n",
      "                 coef    std err          t      P>|t|      [0.025      0.975]\n",
      "------------------------------------------------------------------------------\n",
      "x1             0.4805      0.026     18.839      0.000       0.429       0.532\n",
      "x2             0.4494      0.100      4.483      0.000       0.248       0.651\n",
      "x3            -0.0163      0.002     -7.287      0.000      -0.021      -0.012\n",
      "const          4.9951      0.165     30.205      0.000       4.662       5.328\n",
      "==============================================================================\n",
      "Omnibus:                        0.717   Durbin-Watson:                   2.132\n",
      "Prob(Omnibus):                  0.699   Jarque-Bera (JB):                0.746\n",
      "Skew:                          -0.053   Prob(JB):                        0.689\n",
      "Kurtosis:                       2.411   Cond. No.                         221.\n",
      "==============================================================================\n",
      "\n",
      "Warnings:\n",
      "[1] Standard Errors assume that the covariance matrix of the errors is correctly specified.\n"
     ]
    }
   ],
   "source": [
    "res = sm.OLS(y, X).fit()\n",
    "print(res.summary())"
   ]
  },
  {
   "cell_type": "code",
   "execution_count": 16,
   "metadata": {},
   "outputs": [
    {
     "name": "stdout",
     "output_type": "stream",
     "text": [
      "Parameters:  [ 0.48048398  0.44944679 -0.01631824  4.99506578]\n",
      "Standard errors:  [0.02550422 0.10026008 0.00223929 0.16537031]\n",
      "Predicted values:  [ 4.58710986  5.02550852  5.42916004  5.77356995  6.04308373  6.23345874\n",
      "  6.35256135  6.41907444  6.45942792  6.50345631  6.57949708  6.70973483\n",
      "  6.90655644  7.17051594  7.4902435   7.84431344  8.20476442  8.5416934\n",
      "  8.82816863  9.04465446  9.18222101  9.24401127  9.2447248   9.20820254\n",
      "  9.16350988  9.14016129  9.16327112  9.24942747  9.40396674  9.62009691\n",
      "  9.88001344 10.15782451 10.42380497 10.64928009 10.81133676 10.89658802\n",
      " 10.90337251 10.84202746 10.73319024 10.60440778 10.48561062 10.40419546\n",
      " 10.38052391 10.42457718 10.53431616 10.69601648 10.88652334 11.0770558\n",
      " 11.23793542 11.34346231]\n"
     ]
    }
   ],
   "source": [
    "print('Parameters: ', res.params)\n",
    "print('Standard errors: ', res.bse)\n",
    "print('Predicted values: ', res.predict())"
   ]
  },
  {
   "cell_type": "code",
   "execution_count": 17,
   "metadata": {},
   "outputs": [
    {
     "data": {
      "image/png": "[encoded data removed]",
      "text/plain": [
       "<Figure size 576x432 with 1 Axes>"
      ]
     },
     "metadata": {
      "needs_background": "light"
     },
     "output_type": "display_data"
    }
   ],
   "source": [
    "import statsmodels.api as sm\n",
    "import matplotlib.pyplot as plt\n",
    "prstd, iv_l, iv_u = wls_prediction_std(res)\n",
    "\n",
    "fig, ax = plt.subplots(figsize=(8,6))\n",
    "\n",
    "ax.plot(x, y, 'o', label=\"data\")\n",
    "ax.plot(x, y_true, 'b-', label=\"True\")\n",
    "ax.plot(x, res.fittedvalues, 'r--.', label=\"OLS\")\n",
    "ax.plot(x, iv_u, 'r--')\n",
    "ax.plot(x, iv_l, 'r--')\n",
    "ax.legend(loc='best');"
   ]
  },
  {
   "cell_type": "code",
   "execution_count": 18,
   "metadata": {},
   "outputs": [
    {
     "data": {
      "text/plain": [
       "array([ 9.66970383, 11.41315695, 11.98724245, 11.99975718, 10.11478344,\n",
       "       13.39996394, 12.37273472, 13.8455077 , 13.98119566, 13.706232  ,\n",
       "       15.35476773, 13.47401219, 14.37016908, 14.55843249, 17.04525036,\n",
       "       15.52686475, 15.70573111, 16.47811097, 16.52708483, 16.63893823,\n",
       "       22.35442218, 21.30454979, 22.4064379 , 22.94187874, 22.28028266,\n",
       "       22.43704445, 24.07285937, 23.55681536, 23.98151855, 25.22442984,\n",
       "       23.90050259, 24.34743505, 26.36549989, 25.95757351, 25.24589226,\n",
       "       27.86217863, 28.36518706, 28.77273451, 28.51076406, 27.85729786,\n",
       "       23.75670845, 23.72312517, 25.71428068, 25.19256826, 24.0518749 ,\n",
       "       27.35654467, 24.7902873 , 27.59265036, 27.46407833, 27.6198948 ])"
      ]
     },
     "execution_count": 18,
     "metadata": {},
     "output_type": "execute_result"
    }
   ],
   "source": [
    "nsample = 50\n",
    "groups = np.zeros(nsample, int)\n",
    "groups[20:40] = 1\n",
    "groups[40:] = 2\n",
    "#dummy = (groups[:,None] == np.unique(groups)).astype(float)\n",
    "\n",
    "dummy = sm.categorical(groups, drop=True)\n",
    "x = np.linspace(0, 20, nsample)\n",
    "# drop reference category\n",
    "X = np.column_stack((x, dummy[:,1:]))\n",
    "X = sm.add_constant(X, prepend=False)\n",
    "\n",
    "beta = [1., 3, -3, 10]\n",
    "y_true = np.dot(X, beta)\n",
    "e = np.random.normal(size=nsample)\n",
    "y = y_true + e\n",
    "y"
   ]
  },
  {
   "cell_type": "code",
   "execution_count": 19,
   "metadata": {},
   "outputs": [
    {
     "name": "stdout",
     "output_type": "stream",
     "text": [
      "[[0.         0.         0.         1.        ]\n",
      " [0.40816327 0.         0.         1.        ]\n",
      " [0.81632653 0.         0.         1.        ]\n",
      " [1.2244898  0.         0.         1.        ]\n",
      " [1.63265306 0.         0.         1.        ]]\n",
      "[ 9.66970383 11.41315695 11.98724245 11.99975718 10.11478344]\n",
      "[0 0 0 0 0 0 0 0 0 0 0 0 0 0 0 0 0 0 0 0 1 1 1 1 1 1 1 1 1 1 1 1 1 1 1 1 1\n",
      " 1 1 1 2 2 2 2 2 2 2 2 2 2]\n",
      "[[1. 0. 0.]\n",
      " [1. 0. 0.]\n",
      " [1. 0. 0.]\n",
      " [1. 0. 0.]\n",
      " [1. 0. 0.]]\n"
     ]
    }
   ],
   "source": [
    "print(X[:5,:])\n",
    "print(y[:5])\n",
    "print(groups)\n",
    "print(dummy[:5,:])"
   ]
  },
  {
   "cell_type": "code",
   "execution_count": 20,
   "metadata": {},
   "outputs": [
    {
     "name": "stdout",
     "output_type": "stream",
     "text": [
      "                            OLS Regression Results                            \n",
      "==============================================================================\n",
      "Dep. Variable:                      y   R-squared:                       0.980\n",
      "Model:                            OLS   Adj. R-squared:                  0.979\n",
      "Method:                 Least Squares   F-statistic:                     749.2\n",
      "Date:                Thu, 28 Nov 2019   Prob (F-statistic):           4.86e-39\n",
      "Time:                        11:30:12   Log-Likelihood:                -62.048\n",
      "No. Observations:                  50   AIC:                             132.1\n",
      "Df Residuals:                      46   BIC:                             139.7\n",
      "Df Model:                           3                                         \n",
      "Covariance Type:            nonrobust                                         \n",
      "==============================================================================\n",
      "                 coef    std err          t      P>|t|      [0.025      0.975]\n",
      "------------------------------------------------------------------------------\n",
      "x1             0.8885      0.057     15.619      0.000       0.774       1.003\n",
      "x2             3.7258      0.540      6.898      0.000       2.639       4.813\n",
      "x3            -0.8749      0.880     -0.994      0.325      -2.646       0.897\n",
      "const         10.4633      0.294     35.531      0.000       9.871      11.056\n",
      "==============================================================================\n",
      "Omnibus:                        3.960   Durbin-Watson:                   2.495\n",
      "Prob(Omnibus):                  0.138   Jarque-Bera (JB):                1.854\n",
      "Skew:                          -0.095   Prob(JB):                        0.396\n",
      "Kurtosis:                       2.076   Cond. No.                         96.3\n",
      "==============================================================================\n",
      "\n",
      "Warnings:\n",
      "[1] Standard Errors assume that the covariance matrix of the errors is correctly specified.\n"
     ]
    }
   ],
   "source": [
    "res2 = sm.OLS(y, X).fit()\n",
    "print(res2.summary())"
   ]
  },
  {
   "cell_type": "code",
   "execution_count": 21,
   "metadata": {},
   "outputs": [
    {
     "data": {
      "image/png": "[encoded data removed]",
      "text/plain": [
       "<Figure size 576x432 with 1 Axes>"
      ]
     },
     "metadata": {
      "needs_background": "light"
     },
     "output_type": "display_data"
    }
   ],
   "source": [
    "prstd, iv_l, iv_u = wls_prediction_std(res2)\n",
    "\n",
    "fig, ax = plt.subplots(figsize=(8,6))\n",
    "\n",
    "ax.plot(x, y, 'o', label=\"Data\")\n",
    "ax.plot(x, y_true, 'b-', label=\"True\")\n",
    "ax.plot(x, res2.fittedvalues, 'r--.', label=\"Predicted\")\n",
    "ax.plot(x, iv_u, 'r--')\n",
    "ax.plot(x, iv_l, 'r--')\n",
    "legend = ax.legend(loc=\"best\")"
   ]
  },
  {
   "cell_type": "code",
   "execution_count": 22,
   "metadata": {},
   "outputs": [
    {
     "name": "stdout",
     "output_type": "stream",
     "text": [
      "[[0 1 0 0]\n",
      " [0 0 1 0]]\n",
      "<F test: F=array([[128.07362388]]), p=1.5790698731060541e-19, df_denom=46, df_num=2>\n"
     ]
    }
   ],
   "source": [
    "R = [[0, 1, 0, 0], [0, 0, 1, 0]]\n",
    "print(np.array(R))\n",
    "print(res2.f_test(R))"
   ]
  },
  {
   "cell_type": "code",
   "execution_count": 23,
   "metadata": {},
   "outputs": [
    {
     "name": "stdout",
     "output_type": "stream",
     "text": [
      "<F test: F=array([[128.07362388]]), p=1.5790698731060341e-19, df_denom=46, df_num=2>\n"
     ]
    }
   ],
   "source": [
    "print(res2.f_test(\"x2 = x3 = 0\"))"
   ]
  },
  {
   "cell_type": "code",
   "execution_count": 24,
   "metadata": {},
   "outputs": [
    {
     "name": "stdout",
     "output_type": "stream",
     "text": [
      "<F test: F=array([[1.70934249]]), p=0.19227945460365012, df_denom=46, df_num=2>\n"
     ]
    }
   ],
   "source": [
    "beta = [1., 0.3, -0.0, 10]\n",
    "y_true = np.dot(X, beta)\n",
    "y = y_true + np.random.normal(size=nsample)\n",
    "\n",
    "res3 = sm.OLS(y, X).fit()\n",
    "\n",
    "print(res3.f_test(R))"
   ]
  },
  {
   "cell_type": "code",
   "execution_count": 25,
   "metadata": {},
   "outputs": [
    {
     "name": "stdout",
     "output_type": "stream",
     "text": [
      "<F test: F=array([[1.70934249]]), p=0.19227945460365012, df_denom=46, df_num=2>\n"
     ]
    }
   ],
   "source": [
    "print(res3.f_test(\"x2 = x3 = 0\"))"
   ]
  },
  {
   "cell_type": "code",
   "execution_count": 27,
   "metadata": {},
   "outputs": [
    {
     "name": "stderr",
     "output_type": "stream",
     "text": [
      "/usr/lib/python3/dist-packages/numpy/core/fromnumeric.py:2389: FutureWarning: Method .ptp is deprecated and will be removed in a future version. Use numpy.ptp instead.\n",
      "  return ptp(axis=axis, out=out, **kwargs)\n"
     ]
    },
    {
     "data": {
      "text/html": [
       "<div>\n",
       "<style scoped>\n",
       "    .dataframe tbody tr th:only-of-type {\n",
       "        vertical-align: middle;\n",
       "    }\n",
       "\n",
       "    .dataframe tbody tr th {\n",
       "        vertical-align: top;\n",
       "    }\n",
       "\n",
       "    .dataframe thead th {\n",
       "        text-align: right;\n",
       "    }\n",
       "</style>\n",
       "<table border=\"1\" class=\"dataframe\">\n",
       "  <thead>\n",
       "    <tr style=\"text-align: right;\">\n",
       "      <th></th>\n",
       "      <th>const</th>\n",
       "      <th>GNPDEFL</th>\n",
       "      <th>GNP</th>\n",
       "      <th>UNEMP</th>\n",
       "      <th>ARMED</th>\n",
       "      <th>POP</th>\n",
       "      <th>YEAR</th>\n",
       "    </tr>\n",
       "  </thead>\n",
       "  <tbody>\n",
       "    <tr>\n",
       "      <th>0</th>\n",
       "      <td>1.0</td>\n",
       "      <td>83.0</td>\n",
       "      <td>234289.0</td>\n",
       "      <td>2356.0</td>\n",
       "      <td>1590.0</td>\n",
       "      <td>107608.0</td>\n",
       "      <td>1947.0</td>\n",
       "    </tr>\n",
       "    <tr>\n",
       "      <th>1</th>\n",
       "      <td>1.0</td>\n",
       "      <td>88.5</td>\n",
       "      <td>259426.0</td>\n",
       "      <td>2325.0</td>\n",
       "      <td>1456.0</td>\n",
       "      <td>108632.0</td>\n",
       "      <td>1948.0</td>\n",
       "    </tr>\n",
       "    <tr>\n",
       "      <th>2</th>\n",
       "      <td>1.0</td>\n",
       "      <td>88.2</td>\n",
       "      <td>258054.0</td>\n",
       "      <td>3682.0</td>\n",
       "      <td>1616.0</td>\n",
       "      <td>109773.0</td>\n",
       "      <td>1949.0</td>\n",
       "    </tr>\n",
       "    <tr>\n",
       "      <th>3</th>\n",
       "      <td>1.0</td>\n",
       "      <td>89.5</td>\n",
       "      <td>284599.0</td>\n",
       "      <td>3351.0</td>\n",
       "      <td>1650.0</td>\n",
       "      <td>110929.0</td>\n",
       "      <td>1950.0</td>\n",
       "    </tr>\n",
       "    <tr>\n",
       "      <th>4</th>\n",
       "      <td>1.0</td>\n",
       "      <td>96.2</td>\n",
       "      <td>328975.0</td>\n",
       "      <td>2099.0</td>\n",
       "      <td>3099.0</td>\n",
       "      <td>112075.0</td>\n",
       "      <td>1951.0</td>\n",
       "    </tr>\n",
       "    <tr>\n",
       "      <th>5</th>\n",
       "      <td>1.0</td>\n",
       "      <td>98.1</td>\n",
       "      <td>346999.0</td>\n",
       "      <td>1932.0</td>\n",
       "      <td>3594.0</td>\n",
       "      <td>113270.0</td>\n",
       "      <td>1952.0</td>\n",
       "    </tr>\n",
       "    <tr>\n",
       "      <th>6</th>\n",
       "      <td>1.0</td>\n",
       "      <td>99.0</td>\n",
       "      <td>365385.0</td>\n",
       "      <td>1870.0</td>\n",
       "      <td>3547.0</td>\n",
       "      <td>115094.0</td>\n",
       "      <td>1953.0</td>\n",
       "    </tr>\n",
       "    <tr>\n",
       "      <th>7</th>\n",
       "      <td>1.0</td>\n",
       "      <td>100.0</td>\n",
       "      <td>363112.0</td>\n",
       "      <td>3578.0</td>\n",
       "      <td>3350.0</td>\n",
       "      <td>116219.0</td>\n",
       "      <td>1954.0</td>\n",
       "    </tr>\n",
       "    <tr>\n",
       "      <th>8</th>\n",
       "      <td>1.0</td>\n",
       "      <td>101.2</td>\n",
       "      <td>397469.0</td>\n",
       "      <td>2904.0</td>\n",
       "      <td>3048.0</td>\n",
       "      <td>117388.0</td>\n",
       "      <td>1955.0</td>\n",
       "    </tr>\n",
       "    <tr>\n",
       "      <th>9</th>\n",
       "      <td>1.0</td>\n",
       "      <td>104.6</td>\n",
       "      <td>419180.0</td>\n",
       "      <td>2822.0</td>\n",
       "      <td>2857.0</td>\n",
       "      <td>118734.0</td>\n",
       "      <td>1956.0</td>\n",
       "    </tr>\n",
       "    <tr>\n",
       "      <th>10</th>\n",
       "      <td>1.0</td>\n",
       "      <td>108.4</td>\n",
       "      <td>442769.0</td>\n",
       "      <td>2936.0</td>\n",
       "      <td>2798.0</td>\n",
       "      <td>120445.0</td>\n",
       "      <td>1957.0</td>\n",
       "    </tr>\n",
       "    <tr>\n",
       "      <th>11</th>\n",
       "      <td>1.0</td>\n",
       "      <td>110.8</td>\n",
       "      <td>444546.0</td>\n",
       "      <td>4681.0</td>\n",
       "      <td>2637.0</td>\n",
       "      <td>121950.0</td>\n",
       "      <td>1958.0</td>\n",
       "    </tr>\n",
       "    <tr>\n",
       "      <th>12</th>\n",
       "      <td>1.0</td>\n",
       "      <td>112.6</td>\n",
       "      <td>482704.0</td>\n",
       "      <td>3813.0</td>\n",
       "      <td>2552.0</td>\n",
       "      <td>123366.0</td>\n",
       "      <td>1959.0</td>\n",
       "    </tr>\n",
       "    <tr>\n",
       "      <th>13</th>\n",
       "      <td>1.0</td>\n",
       "      <td>114.2</td>\n",
       "      <td>502601.0</td>\n",
       "      <td>3931.0</td>\n",
       "      <td>2514.0</td>\n",
       "      <td>125368.0</td>\n",
       "      <td>1960.0</td>\n",
       "    </tr>\n",
       "    <tr>\n",
       "      <th>14</th>\n",
       "      <td>1.0</td>\n",
       "      <td>115.7</td>\n",
       "      <td>518173.0</td>\n",
       "      <td>4806.0</td>\n",
       "      <td>2572.0</td>\n",
       "      <td>127852.0</td>\n",
       "      <td>1961.0</td>\n",
       "    </tr>\n",
       "    <tr>\n",
       "      <th>15</th>\n",
       "      <td>1.0</td>\n",
       "      <td>116.9</td>\n",
       "      <td>554894.0</td>\n",
       "      <td>4007.0</td>\n",
       "      <td>2827.0</td>\n",
       "      <td>130081.0</td>\n",
       "      <td>1962.0</td>\n",
       "    </tr>\n",
       "  </tbody>\n",
       "</table>\n",
       "</div>"
      ],
      "text/plain": [
       "    const  GNPDEFL       GNP   UNEMP   ARMED       POP    YEAR\n",
       "0     1.0     83.0  234289.0  2356.0  1590.0  107608.0  1947.0\n",
       "1     1.0     88.5  259426.0  2325.0  1456.0  108632.0  1948.0\n",
       "2     1.0     88.2  258054.0  3682.0  1616.0  109773.0  1949.0\n",
       "3     1.0     89.5  284599.0  3351.0  1650.0  110929.0  1950.0\n",
       "4     1.0     96.2  328975.0  2099.0  3099.0  112075.0  1951.0\n",
       "5     1.0     98.1  346999.0  1932.0  3594.0  113270.0  1952.0\n",
       "6     1.0     99.0  365385.0  1870.0  3547.0  115094.0  1953.0\n",
       "7     1.0    100.0  363112.0  3578.0  3350.0  116219.0  1954.0\n",
       "8     1.0    101.2  397469.0  2904.0  3048.0  117388.0  1955.0\n",
       "9     1.0    104.6  419180.0  2822.0  2857.0  118734.0  1956.0\n",
       "10    1.0    108.4  442769.0  2936.0  2798.0  120445.0  1957.0\n",
       "11    1.0    110.8  444546.0  4681.0  2637.0  121950.0  1958.0\n",
       "12    1.0    112.6  482704.0  3813.0  2552.0  123366.0  1959.0\n",
       "13    1.0    114.2  502601.0  3931.0  2514.0  125368.0  1960.0\n",
       "14    1.0    115.7  518173.0  4806.0  2572.0  127852.0  1961.0\n",
       "15    1.0    116.9  554894.0  4007.0  2827.0  130081.0  1962.0"
      ]
     },
     "execution_count": 27,
     "metadata": {},
     "output_type": "execute_result"
    }
   ],
   "source": [
    "from statsmodels.datasets.longley import load_pandas\n",
    "y = load_pandas().endog\n",
    "X = load_pandas().exog\n",
    "X = sm.add_constant(X)\n",
    "X"
   ]
  },
  {
   "cell_type": "code",
   "execution_count": 28,
   "metadata": {},
   "outputs": [
    {
     "name": "stdout",
     "output_type": "stream",
     "text": [
      "                            OLS Regression Results                            \n",
      "==============================================================================\n",
      "Dep. Variable:                 TOTEMP   R-squared:                       0.995\n",
      "Model:                            OLS   Adj. R-squared:                  0.992\n",
      "Method:                 Least Squares   F-statistic:                     330.3\n",
      "Date:                Thu, 28 Nov 2019   Prob (F-statistic):           4.98e-10\n",
      "Time:                        11:34:28   Log-Likelihood:                -109.62\n",
      "No. Observations:                  16   AIC:                             233.2\n",
      "Df Residuals:                       9   BIC:                             238.6\n",
      "Df Model:                           6                                         \n",
      "Covariance Type:            nonrobust                                         \n",
      "==============================================================================\n",
      "                 coef    std err          t      P>|t|      [0.025      0.975]\n",
      "------------------------------------------------------------------------------\n",
      "const      -3.482e+06    8.9e+05     -3.911      0.004    -5.5e+06   -1.47e+06\n",
      "GNPDEFL       15.0619     84.915      0.177      0.863    -177.029     207.153\n",
      "GNP           -0.0358      0.033     -1.070      0.313      -0.112       0.040\n",
      "UNEMP         -2.0202      0.488     -4.136      0.003      -3.125      -0.915\n",
      "ARMED         -1.0332      0.214     -4.822      0.001      -1.518      -0.549\n",
      "POP           -0.0511      0.226     -0.226      0.826      -0.563       0.460\n",
      "YEAR        1829.1515    455.478      4.016      0.003     798.788    2859.515\n",
      "==============================================================================\n",
      "Omnibus:                        0.749   Durbin-Watson:                   2.559\n",
      "Prob(Omnibus):                  0.688   Jarque-Bera (JB):                0.684\n",
      "Skew:                           0.420   Prob(JB):                        0.710\n",
      "Kurtosis:                       2.434   Cond. No.                     4.86e+09\n",
      "==============================================================================\n",
      "\n",
      "Warnings:\n",
      "[1] Standard Errors assume that the covariance matrix of the errors is correctly specified.\n",
      "[2] The condition number is large, 4.86e+09. This might indicate that there are\n",
      "strong multicollinearity or other numerical problems.\n"
     ]
    },
    {
     "name": "stderr",
     "output_type": "stream",
     "text": [
      "/usr/lib/python3/dist-packages/scipy/stats/stats.py:1416: UserWarning: kurtosistest only valid for n>=20 ... continuing anyway, n=16\n",
      "  \"anyway, n=%i\" % int(n))\n"
     ]
    }
   ],
   "source": [
    "ols_model = sm.OLS(y, X)\n",
    "ols_results = ols_model.fit()\n",
    "print(ols_results.summary())"
   ]
  },
  {
   "cell_type": "code",
   "execution_count": 29,
   "metadata": {},
   "outputs": [],
   "source": [
    "norm_x = X.values\n",
    "for i, name in enumerate(X):\n",
    "    if name == \"const\":\n",
    "        continue\n",
    "    norm_x[:,i] = X[name]/np.linalg.norm(X[name])\n",
    "norm_xtx = np.dot(norm_x.T,norm_x)"
   ]
  },
  {
   "cell_type": "code",
   "execution_count": 30,
   "metadata": {},
   "outputs": [
    {
     "name": "stdout",
     "output_type": "stream",
     "text": [
      "56240.868936151135\n"
     ]
    }
   ],
   "source": [
    "eigs = np.linalg.eigvals(norm_xtx)\n",
    "condition_number = np.sqrt(eigs.max() / eigs.min())\n",
    "print(condition_number)"
   ]
  },
  {
   "cell_type": "code",
   "execution_count": 31,
   "metadata": {},
   "outputs": [
    {
     "name": "stdout",
     "output_type": "stream",
     "text": [
      "Percentage change 4.55%\n",
      "Percentage change -2228.01%\n",
      "Percentage change 154304695.31%\n",
      "Percentage change 1366329.02%\n",
      "Percentage change 1112549.36%\n",
      "Percentage change 92708715.91%\n",
      "Percentage change 817944.26%\n",
      "\n"
     ]
    }
   ],
   "source": [
    "ols_results2 = sm.OLS(y.iloc[:14], X.iloc[:14]).fit()\n",
    "print(\"Percentage change %4.2f%%\\n\"*7 % tuple([i for i in (ols_results2.params - ols_results.params)/ols_results.params*100]))"
   ]
  },
  {
   "cell_type": "code",
   "execution_count": 32,
   "metadata": {},
   "outputs": [],
   "source": [
    "infl = ols_results.get_influence()"
   ]
  },
  {
   "cell_type": "code",
   "execution_count": 33,
   "metadata": {},
   "outputs": [
    {
     "data": {
      "text/plain": [
       "0.5"
      ]
     },
     "execution_count": 33,
     "metadata": {},
     "output_type": "execute_result"
    }
   ],
   "source": [
    "2./len(X)**.5"
   ]
  },
  {
   "cell_type": "code",
   "execution_count": 34,
   "metadata": {},
   "outputs": [
    {
     "name": "stdout",
     "output_type": "stream",
     "text": [
      "    dfb_const  dfb_GNPDEFL       dfb_GNP     dfb_UNEMP     dfb_ARMED  \\\n",
      "0   -0.016406  -169.822675  1.673981e+06  54490.318088  51447.824036   \n",
      "1   -0.020608  -187.251727  1.829990e+06  54495.312977  52659.808664   \n",
      "2   -0.008382   -65.417834  1.587601e+06  52002.330476  49078.352378   \n",
      "3    0.018093   288.503914  1.155359e+06  56211.331922  60350.723082   \n",
      "4    1.871260  -171.109595  4.498197e+06  82532.785818  71034.429294   \n",
      "5   -0.321373  -104.123822  1.398891e+06  52559.760056  47486.527649   \n",
      "6    0.315945  -169.413317  2.364827e+06  59754.651394  50371.817827   \n",
      "7    0.015816   -69.343793  1.641243e+06  51849.056936  48628.749338   \n",
      "8   -0.004019   -86.903523  1.649443e+06  52023.265116  49114.178265   \n",
      "9   -1.018242  -201.315802  1.371257e+06  56432.027292  53997.742487   \n",
      "10   0.030947   -78.359439  1.658753e+06  52254.848135  49341.055289   \n",
      "11   0.005987  -100.926843  1.662425e+06  51744.606934  48968.560299   \n",
      "12  -0.135883   -32.093127  1.245487e+06  50203.467593  51148.376274   \n",
      "13   0.032736   -78.513866  1.648417e+06  52509.194459  50212.844641   \n",
      "14   0.305868   -16.833121  1.829996e+06  60975.868083  58263.878679   \n",
      "15  -0.538323   102.027105  1.344844e+06  54721.897640  49660.474568   \n",
      "\n",
      "          dfb_POP      dfb_YEAR  \n",
      "0   207954.113589 -31969.158503  \n",
      "1    25343.938289 -29760.155888  \n",
      "2   107465.770565 -29593.195253  \n",
      "3   456190.215132 -36213.129569  \n",
      "4  -389122.401700 -49905.782854  \n",
      "5   144354.586054 -28985.057609  \n",
      "6  -107413.074918 -32984.462465  \n",
      "7    92843.959345 -29724.975873  \n",
      "8    83931.635336 -29563.619222  \n",
      "9    18392.575057 -29203.217108  \n",
      "10   93617.648517 -29846.022426  \n",
      "11   95414.217290 -29690.904188  \n",
      "12  258559.048569 -29296.334617  \n",
      "13  104434.061226 -30025.564763  \n",
      "14  275103.677859 -36060.612522  \n",
      "15 -110176.960671 -28053.834556  \n"
     ]
    },
    {
     "name": "stderr",
     "output_type": "stream",
     "text": [
      "/usr/local/lib/python3.7/dist-packages/statsmodels/stats/outliers_influence.py:695: RuntimeWarning: invalid value encountered in sqrt\n",
      "  return self.resid / sigma / np.sqrt(1 - hii)\n",
      "/usr/lib/python3/dist-packages/scipy/stats/_distn_infrastructure.py:877: RuntimeWarning: invalid value encountered in greater\n",
      "  return (self.a < x) & (x < self.b)\n",
      "/usr/lib/python3/dist-packages/scipy/stats/_distn_infrastructure.py:877: RuntimeWarning: invalid value encountered in less\n",
      "  return (self.a < x) & (x < self.b)\n",
      "/usr/lib/python3/dist-packages/scipy/stats/_distn_infrastructure.py:1831: RuntimeWarning: invalid value encountered in less_equal\n",
      "  cond2 = cond0 & (x <= self.a)\n",
      "/usr/local/lib/python3.7/dist-packages/statsmodels/stats/outliers_influence.py:729: RuntimeWarning: invalid value encountered in sqrt\n",
      "  dffits_ = self.resid_studentized_internal * np.sqrt(hii / (1 - hii))\n",
      "/usr/local/lib/python3.7/dist-packages/statsmodels/stats/outliers_influence.py:758: RuntimeWarning: invalid value encountered in sqrt\n",
      "  dffits_ = self.resid_studentized_external * np.sqrt(hii / (1 - hii))\n"
     ]
    }
   ],
   "source": [
    "print(infl.summary_frame().filter(regex=\"dfb\"))"
   ]
  }
 ],
 "metadata": {
  "kernelspec": {
   "display_name": "Python 3",
   "language": "python",
   "name": "python3"
  },
  "language_info": {
   "codemirror_mode": {
    "name": "ipython",
    "version": 3
   },
   "file_extension": ".py",
   "mimetype": "text/x-python",
   "name": "python",
   "nbconvert_exporter": "python",
   "pygments_lexer": "ipython3",
   "version": "3.7.5"
  }
 },
 "nbformat": 4,
 "nbformat_minor": 2
}
